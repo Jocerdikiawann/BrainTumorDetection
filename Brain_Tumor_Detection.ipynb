{
  "nbformat": 4,
  "nbformat_minor": 0,
  "metadata": {
    "colab": {
      "name": "Brain Tumor Detection",
      "provenance": [],
      "collapsed_sections": []
    },
    "kernelspec": {
      "name": "python3",
      "display_name": "Python 3"
    },
    "language_info": {
      "name": "python"
    },
    "accelerator": "GPU"
  },
  "cells": [
    {
      "cell_type": "markdown",
      "source": [
        "# **Brain tumor detection**"
      ],
      "metadata": {
        "id": "nvLTMC0Ce9bL"
      }
    },
    {
      "cell_type": "markdown",
      "source": [
        "1. Buat folder datasets\n",
        "2. masuk folder yes dan no didalam folder datasets"
      ],
      "metadata": {
        "id": "0TJUlPl2fJ0t"
      }
    },
    {
      "cell_type": "markdown",
      "source": [
        "## **Import Dependency**"
      ],
      "metadata": {
        "id": "SCH0gEyRfaWx"
      }
    },
    {
      "cell_type": "code",
      "source": [
        "pip install tensorflowjs"
      ],
      "metadata": {
        "id": "q8mflNPuWRN-"
      },
      "execution_count": null,
      "outputs": []
    },
    {
      "cell_type": "code",
      "execution_count": 37,
      "metadata": {
        "id": "LjcmfyS-dfmd"
      },
      "outputs": [],
      "source": [
        "import cv2\n",
        "import os\n",
        "from PIL import Image\n",
        "from google.colab import drive\n",
        "import numpy as np\n",
        "from sklearn.model_selection import train_test_split\n",
        "import tensorflow as tf\n",
        "from tensorflow import keras\n",
        "from keras.layers import Conv2D,MaxPooling2D,Activation,Dropout,Flatten,Dense\n",
        "from tensorflow.keras.utils import to_categorical\n",
        "from keras.models import load_model\n",
        "import tensorflowjs as tfjs"
      ]
    },
    {
      "cell_type": "markdown",
      "source": [
        "## **Mount drive**"
      ],
      "metadata": {
        "id": "OtqkC95skmZ5"
      }
    },
    {
      "cell_type": "code",
      "source": [
        "drive.mount('/content/gdrive')"
      ],
      "metadata": {
        "colab": {
          "base_uri": "https://localhost:8080/"
        },
        "id": "w79wkTVXkpmN",
        "outputId": "e0af7963-2ff7-4fcf-9fc9-b3587591054b"
      },
      "execution_count": 2,
      "outputs": [
        {
          "output_type": "stream",
          "name": "stdout",
          "text": [
            "Drive already mounted at /content/gdrive; to attempt to forcibly remount, call drive.mount(\"/content/gdrive\", force_remount=True).\n"
          ]
        }
      ]
    },
    {
      "cell_type": "markdown",
      "source": [
        "## **Image state**\n",
        "pengumpulan image ke dalam variable"
      ],
      "metadata": {
        "id": "U61Mc1QUfo4H"
      }
    },
    {
      "cell_type": "code",
      "source": [
        "directory_images = \"gdrive/MyDrive/BrainTumorDetection/\"\n",
        "without_tumor_images = os.listdir(directory_images+\"datasets/\"+\"no/\")\n",
        "with_tumor_images = os.listdir(directory_images+\"datasets/\"+\"yes/\")\n",
        "prediction_tumor_images = os.listdir(directory_images+\"predictions/\")\n",
        "datasets=[]\n",
        "labels=[]"
      ],
      "metadata": {
        "id": "OG3azzhbfuqq"
      },
      "execution_count": 13,
      "outputs": []
    },
    {
      "cell_type": "code",
      "source": [
        "INPUT_SIZE=64"
      ],
      "metadata": {
        "id": "PoKEYV7sFFP8"
      },
      "execution_count": 4,
      "outputs": []
    },
    {
      "cell_type": "code",
      "source": [
        "for i,name in enumerate(without_tumor_images):\n",
        "  if(name.split('.')[1]==\"jpg\"):\n",
        "    image=cv2.imread(directory_images+\"no/\"+name)\n",
        "    image=Image.fromarray(image,\"RGB\")\n",
        "    image=image.resize((INPUT_SIZE,INPUT_SIZE))\n",
        "    datasets.append(np.array(image))\n",
        "    labels.append(0)"
      ],
      "metadata": {
        "id": "9lS_8RP0gjxg"
      },
      "execution_count": 5,
      "outputs": []
    },
    {
      "cell_type": "code",
      "source": [
        "for i,name in enumerate(with_tumor_images):\n",
        "  if(name.split('.')[1]==\"jpg\"):\n",
        "    image=cv2.imread(directory_images+\"yes/\"+name)\n",
        "    image=Image.fromarray(image,\"RGB\")\n",
        "    image=image.resize((INPUT_SIZE,INPUT_SIZE))\n",
        "    datasets.append(np.array(image))\n",
        "    labels.append(1)"
      ],
      "metadata": {
        "id": "I2BKvB2u_kq2"
      },
      "execution_count": 6,
      "outputs": []
    },
    {
      "cell_type": "markdown",
      "source": [
        "## **Build model**"
      ],
      "metadata": {
        "id": "QpKkfT0nMIF9"
      }
    },
    {
      "cell_type": "code",
      "source": [
        "datasets = np.array(datasets)\n",
        "labels = np.array(labels)\n",
        "\n",
        "# tf.keras.utils.normalize\n",
        "x_train,x_test,y_train,y_test = train_test_split(datasets,labels,test_size=0.2,random_state=0)"
      ],
      "metadata": {
        "id": "0piDAUk6B81M"
      },
      "execution_count": 7,
      "outputs": []
    },
    {
      "cell_type": "code",
      "source": [
        "x_train=tf.keras.utils.normalize(x_train,axis=1)\n",
        "x_test=tf.keras.utils.normalize(x_test,axis=1)\n",
        "\n",
        "y_train=to_categorical(y_train,num_classes=2)\n",
        "y_test=to_categorical(y_test,num_classes=2)"
      ],
      "metadata": {
        "id": "P7fn17xFCTAF"
      },
      "execution_count": 8,
      "outputs": []
    },
    {
      "cell_type": "code",
      "source": [
        "model = tf.keras.Sequential()\n",
        "\n",
        "model.add(Conv2D(32,(3,3),input_shape=(INPUT_SIZE,INPUT_SIZE,3)))\n",
        "model.add(Activation(\"relu\"))\n",
        "model.add(MaxPooling2D(pool_size=(2,2)))\n",
        "\n",
        "model.add(Conv2D(32,(3,3),kernel_initializer=\"he_uniform\"))\n",
        "model.add(Activation(\"relu\"))\n",
        "model.add(MaxPooling2D(pool_size=(2,2)))\n",
        "\n",
        "model.add(Conv2D(32,(3,3),kernel_initializer=\"he_uniform\"))\n",
        "model.add(Activation(\"relu\"))\n",
        "model.add(MaxPooling2D(pool_size=(2,2)))\n",
        "\n",
        "model.add(Flatten())\n",
        "model.add(Dense(64))\n",
        "model.add(Activation(\"relu\"))\n",
        "model.add(Dropout(0.5))\n",
        "model.add(Dense(2))\n",
        "model.add(Activation('softmax'))\n",
        "\n",
        "model.compile(loss=\"categorical_crossentropy\",optimizer=\"adam\",metrics=[\"accuracy\"])\n",
        "model.fit(x_train,y_train,batch_size=16,verbose=1,epochs=10,validation_data=(x_test,y_test),shuffle=False)\n",
        "\n",
        "model.save(\"BrainTumor.h5\")"
      ],
      "metadata": {
        "colab": {
          "base_uri": "https://localhost:8080/"
        },
        "id": "_so5hPfrEwWN",
        "outputId": "93b4696f-17b3-4f18-e67b-8a1de594aae6"
      },
      "execution_count": 11,
      "outputs": [
        {
          "output_type": "stream",
          "name": "stdout",
          "text": [
            "Epoch 1/10\n",
            "150/150 [==============================] - 3s 14ms/step - loss: 0.5263 - accuracy: 0.7437 - val_loss: 0.5136 - val_accuracy: 0.7700\n",
            "Epoch 2/10\n",
            "150/150 [==============================] - 2s 13ms/step - loss: 0.3882 - accuracy: 0.8333 - val_loss: 0.4184 - val_accuracy: 0.8200\n",
            "Epoch 3/10\n",
            "150/150 [==============================] - 2s 12ms/step - loss: 0.3055 - accuracy: 0.8712 - val_loss: 0.3302 - val_accuracy: 0.8550\n",
            "Epoch 4/10\n",
            "150/150 [==============================] - 2s 13ms/step - loss: 0.2353 - accuracy: 0.9054 - val_loss: 0.2528 - val_accuracy: 0.9133\n",
            "Epoch 5/10\n",
            "150/150 [==============================] - 2s 12ms/step - loss: 0.1678 - accuracy: 0.9333 - val_loss: 0.2039 - val_accuracy: 0.9317\n",
            "Epoch 6/10\n",
            "150/150 [==============================] - 2s 12ms/step - loss: 0.1100 - accuracy: 0.9600 - val_loss: 0.1845 - val_accuracy: 0.9533\n",
            "Epoch 7/10\n",
            "150/150 [==============================] - 2s 12ms/step - loss: 0.0793 - accuracy: 0.9746 - val_loss: 0.1446 - val_accuracy: 0.9600\n",
            "Epoch 8/10\n",
            "150/150 [==============================] - 2s 12ms/step - loss: 0.0583 - accuracy: 0.9817 - val_loss: 0.1568 - val_accuracy: 0.9550\n",
            "Epoch 9/10\n",
            "150/150 [==============================] - 2s 12ms/step - loss: 0.0453 - accuracy: 0.9850 - val_loss: 0.1305 - val_accuracy: 0.9600\n",
            "Epoch 10/10\n",
            "150/150 [==============================] - 2s 12ms/step - loss: 0.0344 - accuracy: 0.9879 - val_loss: 0.1552 - val_accuracy: 0.9617\n"
          ]
        }
      ]
    },
    {
      "cell_type": "markdown",
      "source": [
        "# **Test model**"
      ],
      "metadata": {
        "id": "1EYZ0Vn2L-rT"
      }
    },
    {
      "cell_type": "code",
      "source": [
        "data_model = load_model(\"BrainTumor.h5\")"
      ],
      "metadata": {
        "id": "8rTEpg3kMPIc"
      },
      "execution_count": 15,
      "outputs": []
    },
    {
      "cell_type": "code",
      "source": [
        "image_test = cv2.imread(directory_images+\"predictions/\"+\"pred19.jpg\")\n",
        "img = Image.fromarray(image_test)\n",
        "img = img.resize((INPUT_SIZE,INPUT_SIZE))\n",
        "img = np.array(img)\n",
        "\n",
        "input_img = np.expand_dims(img,axis=0)\n",
        "result = np.argmax(data_model.predict(input_img))\n",
        "# return 1 atau 0, 1=tumor,0 = tidak tumor\n",
        "if(result == 1):\n",
        "  print(\"tumor\")\n",
        "else:\n",
        "  print(\"tidak tumor\")"
      ],
      "metadata": {
        "colab": {
          "base_uri": "https://localhost:8080/"
        },
        "id": "ZeAwTLrcNC03",
        "outputId": "ea6bc354-aea0-4f6e-b55e-37fd0f3f22cc"
      },
      "execution_count": 34,
      "outputs": [
        {
          "output_type": "stream",
          "name": "stdout",
          "text": [
            "tidak tumor\n"
          ]
        }
      ]
    },
    {
      "cell_type": "markdown",
      "source": [
        "# **Export model keras ke tensorflow js**"
      ],
      "metadata": {
        "id": "Q4ydH06PWA4S"
      }
    },
    {
      "cell_type": "code",
      "source": [
        "tfjs.converters.save_keras_model(data_model, \"./\")"
      ],
      "metadata": {
        "id": "RI4Ne6ltWGQr"
      },
      "execution_count": 38,
      "outputs": []
    }
  ]
}